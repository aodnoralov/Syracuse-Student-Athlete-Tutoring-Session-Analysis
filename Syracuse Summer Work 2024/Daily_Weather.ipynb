{
 "cells": [
  {
   "cell_type": "code",
   "execution_count": 2,
   "id": "d4169de2",
   "metadata": {},
   "outputs": [],
   "source": [
    "# not all packages probably needed\n",
    "\n",
    "from bs4 import BeautifulSoup\n",
    "import pandas as pd\n",
    "import time\n",
    "import random\n",
    "import re\n",
    "import numpy as np"
   ]
  },
  {
   "cell_type": "code",
   "execution_count": 4,
   "id": "9cb15ef8",
   "metadata": {},
   "outputs": [],
   "source": [
    "# need to download and install chromedriver\n",
    "\n",
    "from selenium import webdriver\n",
    "driver = webdriver.Chrome()"
   ]
  },
  {
   "cell_type": "code",
   "execution_count": 5,
   "id": "b76d168f",
   "metadata": {},
   "outputs": [],
   "source": [
    "# function for getting weather\n",
    "\n",
    "def get_daily_weather(city, date):\n",
    "    url = 'https://www.wunderground.com/history/daily/' + str(city) + '/date/' + str(date)\n",
    "    driver.get(url)\n",
    "    time.sleep(random.randint(2,6))\n",
    "    soup = BeautifulSoup(driver.page_source, 'lxml')\n",
    "    tables = soup.find_all('table')\n",
    "    dfs = pd.read_html(str(tables))\n",
    "    daily = dfs[1]\n",
    "    daily['City'] = city\n",
    "    daily['Date'] = date\n",
    "    return daily"
   ]
  },
  {
   "cell_type": "code",
   "execution_count": 7,
   "id": "5f97a668",
   "metadata": {},
   "outputs": [],
   "source": [
    "# example list of cities and dates\n",
    "\n",
    "cities_dates = ['PHOG2024-01-04','PHOG2024-01-05','PHOG2024-01-06','PHOG2024-01-07',\n",
    "               'PHNL2024-01-11','PHNL2024-01-12']"
   ]
  },
  {
   "cell_type": "code",
   "execution_count": 9,
   "id": "4e946793",
   "metadata": {},
   "outputs": [
    {
     "name": "stderr",
     "output_type": "stream",
     "text": [
      "C:\\Users\\User\\AppData\\Local\\Temp\\ipykernel_17736\\2350160683.py:9: FutureWarning: Passing literal html to 'read_html' is deprecated and will be removed in a future version. To read from a literal string, wrap it in a 'StringIO' object.\n",
      "  dfs = pd.read_html(str(tables))\n",
      "C:\\Users\\User\\AppData\\Local\\Temp\\ipykernel_17736\\2350160683.py:9: FutureWarning: Passing literal html to 'read_html' is deprecated and will be removed in a future version. To read from a literal string, wrap it in a 'StringIO' object.\n",
      "  dfs = pd.read_html(str(tables))\n",
      "C:\\Users\\User\\AppData\\Local\\Temp\\ipykernel_17736\\2350160683.py:9: FutureWarning: Passing literal html to 'read_html' is deprecated and will be removed in a future version. To read from a literal string, wrap it in a 'StringIO' object.\n",
      "  dfs = pd.read_html(str(tables))\n",
      "C:\\Users\\User\\AppData\\Local\\Temp\\ipykernel_17736\\2350160683.py:9: FutureWarning: Passing literal html to 'read_html' is deprecated and will be removed in a future version. To read from a literal string, wrap it in a 'StringIO' object.\n",
      "  dfs = pd.read_html(str(tables))\n",
      "C:\\Users\\User\\AppData\\Local\\Temp\\ipykernel_17736\\2350160683.py:9: FutureWarning: Passing literal html to 'read_html' is deprecated and will be removed in a future version. To read from a literal string, wrap it in a 'StringIO' object.\n",
      "  dfs = pd.read_html(str(tables))\n",
      "C:\\Users\\User\\AppData\\Local\\Temp\\ipykernel_17736\\2350160683.py:9: FutureWarning: Passing literal html to 'read_html' is deprecated and will be removed in a future version. To read from a literal string, wrap it in a 'StringIO' object.\n",
      "  dfs = pd.read_html(str(tables))\n"
     ]
    }
   ],
   "source": [
    "# for loop for gathering weather, missing city dates are printed at the bottom\n",
    "weather = []\n",
    "\n",
    "for i in cities_dates:\n",
    "    try:\n",
    "        City = i[:4]\n",
    "        Date = i[4:]\n",
    "        df = get_daily_weather(City, Date)\n",
    "        weather.append(df)\n",
    "    except (ValueError, IndexError) as error:\n",
    "        print(i)\n",
    "        continue\n"
   ]
  },
  {
   "cell_type": "code",
   "execution_count": 10,
   "id": "513a184a",
   "metadata": {},
   "outputs": [],
   "source": [
    "# writing final weather df\n",
    "\n",
    "weather_df_final = pd.concat(weather)\n",
    "weather_df_final = weather_df_final.drop_duplicates()\n",
    "weather_df_final.to_csv('weather.csv')"
   ]
  },
  {
   "cell_type": "code",
   "execution_count": null,
   "id": "797ff4e5-d2dd-4208-a630-08f398dc4c84",
   "metadata": {},
   "outputs": [],
   "source": []
  }
 ],
 "metadata": {
  "kernelspec": {
   "display_name": "Python 3 (ipykernel)",
   "language": "python",
   "name": "python3"
  },
  "language_info": {
   "codemirror_mode": {
    "name": "ipython",
    "version": 3
   },
   "file_extension": ".py",
   "mimetype": "text/x-python",
   "name": "python",
   "nbconvert_exporter": "python",
   "pygments_lexer": "ipython3",
   "version": "3.11.7"
  }
 },
 "nbformat": 4,
 "nbformat_minor": 5
}
